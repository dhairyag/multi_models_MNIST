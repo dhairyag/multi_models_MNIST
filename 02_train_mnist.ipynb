{
 "cells": [
  {
   "cell_type": "markdown",
   "metadata": {},
   "source": [
    "### Summary of Techniques Used in 02_train_mnist.ipynb\n",
    "\n",
    "#### Data Handling & Augmentation\n",
    "- Same MNIST dataset with MNISTAlbumentations wrapper\n",
    "- Basic normalization (mean=0.1307, std=0.3081)\n",
    "- No additional augmentations\n",
    "\n",
    "#### Model Architecture (Model2)\n",
    "- More complex architecture with 8 convolutional layers\n",
    "- Uses 7236 parameters\n",
    "- Uses:\n",
    "  - ReLU activation\n",
    "  - BatchNormalization\n",
    "  - MaxPooling\n",
    "  - Global Average Pooling\n",
    "\n",
    "#### Training Configuration\n",
    "- Batch size: 512\n",
    "- Optimizer: SGD with momentum\n",
    "- Uses OneCycleLR scheduler\n",
    "- max_lr: 0.15\n",
    "- Initial div factor: 25\n",
    "- Final div factor: 175\n",
    "- Warmup percentage: 30%\n",
    "- Number of epochs: 15\n",
    "- Device: Uses MPS/CUDA if available, else CPU\n",
    "\n",
    "#### **Target, Result & Analysis**\n",
    "- Target: 99.2%+ test accuracy\n",
    "- Result: Achieved 99.39% best test accuracy\n",
    "\n",
    "#### Analysis:\n",
    "\n",
    "1. Target Justification:\n",
    "- Model2 has more capacity than Model1 (7,236 vs 6,984 parameters)\n",
    "- Uses advanced learning rate scheduling (OneCycleLR)\n",
    "- Better architecture with proper transition blocks\n",
    "- Previous results show >99.3% is achievable with similar architectures\n",
    "\n",
    "2. Architecture Analysis:\n",
    "- Better gradient flow with ReLU instead of LeakyReLU\n",
    "- Proper transition blocks with 1x1 convolutions\n",
    "- Multiple convolution layers allow hierarchical feature learning\n",
    "- GAP reduces parameters and prevents overfitting\n",
    "- BatchNorm after each conv layer improves training stability\n",
    "\n",
    "3. Results Analysis:\n",
    "- Training accuracy reached 99.78% (slight overfitting)\n",
    "- Test accuracy peaked at 99.39% (exceeded target)\n",
    "- Faster convergence than Model1\n",
    "- More stable training due to OneCycleLR\n",
    "- Better generalization with proper regularization\n",
    "\n",
    "4. Improvements over Model1:\n",
    "- Higher accuracy (99.39% vs 99.02%)\n",
    "- Better training stability with OneCycleLR\n",
    "- More sophisticated architecture with transition blocks\n",
    "- Better feature extraction with multiple conv layers\n",
    "\n",
    "5. Potential Further Improvements:\n",
    "- Add dropout layers for regularization\n",
    "- Experiment with different learning rate ranges\n",
    "- Try additional data augmentation techniques\n",
    "- Consider adding residual connections"
   ]
  },
  {
   "cell_type": "code",
   "execution_count": null,
   "metadata": {},
   "outputs": [],
   "source": [
    "import torch\n",
    "import torch.nn as nn\n",
    "import torch.nn.functional as F\n",
    "import torch.optim as optim\n",
    "from torchvision import datasets\n",
    "import numpy as np\n",
    "from torchinfo import summary\n",
    "import albumentations as A\n",
    "from albumentations.pytorch import ToTensorV2\n",
    "from model import Model2 as Net\n",
    "from utils import visualize_augmentations\n",
    "from train import train, test"
   ]
  },
  {
   "cell_type": "markdown",
   "metadata": {},
   "source": [
    "#### Device Configuration"
   ]
  },
  {
   "cell_type": "code",
   "execution_count": 2,
   "metadata": {},
   "outputs": [],
   "source": [
    "\n",
    "use_cuda = torch.cuda.is_available()\n",
    "device = torch.device(\"mps\" if torch.backends.mps.is_available() else \"cuda\" if use_cuda else \"cpu\")\n"
   ]
  },
  {
   "cell_type": "markdown",
   "metadata": {},
   "source": [
    "#### Custom Dataset"
   ]
  },
  {
   "cell_type": "code",
   "execution_count": 3,
   "metadata": {},
   "outputs": [],
   "source": [
    "class MNISTAlbumentations(datasets.MNIST):\n",
    "    def __init__(self, root, train=True, download=True, transform=None):\n",
    "        super().__init__(root, train=train, download=download, transform=None)\n",
    "        self.transform = transform\n",
    "        \n",
    "    def __getitem__(self, idx):\n",
    "        img, label = self.data[idx], self.targets[idx]\n",
    "        img = np.array(img)\n",
    "        img = np.expand_dims(img, axis=-1)  # Add channel dimension for Albumentations\n",
    "        \n",
    "        if self.transform is not None:\n",
    "            transformed = self.transform(image=img)\n",
    "            img = transformed[\"image\"]\n",
    "            \n",
    "        return img, label\n",
    "\n",
    "\n",
    "###################\n",
    "# Data Augmentation\n",
    "###################\n",
    "\n",
    "# Training augmentation pipeline\n",
    "train_transforms = A.Compose([\n",
    "    A.Normalize(\n",
    "        mean=[0.1307],\n",
    "        std=[0.3081],\n",
    "    ),\n",
    "    ToTensorV2(),\n",
    "])\n",
    "\n",
    "# Test transforms (only normalization)\n",
    "test_transforms = A.Compose([\n",
    "    A.Normalize(\n",
    "        mean=[0.1307],\n",
    "        std=[0.3081],\n",
    "    ),\n",
    "    ToTensorV2(),\n",
    "])\n"
   ]
  },
  {
   "cell_type": "code",
   "execution_count": 4,
   "metadata": {},
   "outputs": [
    {
     "name": "stdout",
     "output_type": "stream",
     "text": [
      "==========================================================================================\n",
      "Layer (type:depth-idx)                   Output Shape              Param #\n",
      "==========================================================================================\n",
      "Model2                                   [1, 10]                   --\n",
      "├─Sequential: 1-1                        [1, 12, 26, 26]           --\n",
      "│    └─Conv2d: 2-1                       [1, 12, 26, 26]           108\n",
      "│    └─ReLU: 2-2                         [1, 12, 26, 26]           --\n",
      "│    └─BatchNorm2d: 2-3                  [1, 12, 26, 26]           24\n",
      "├─Sequential: 1-2                        [1, 16, 24, 24]           --\n",
      "│    └─Conv2d: 2-4                       [1, 16, 24, 24]           1,728\n",
      "│    └─ReLU: 2-5                         [1, 16, 24, 24]           --\n",
      "│    └─BatchNorm2d: 2-6                  [1, 16, 24, 24]           32\n",
      "├─Sequential: 1-3                        [1, 10, 24, 24]           --\n",
      "│    └─Conv2d: 2-7                       [1, 10, 24, 24]           160\n",
      "├─MaxPool2d: 1-4                         [1, 10, 12, 12]           --\n",
      "├─Sequential: 1-5                        [1, 12, 10, 10]           --\n",
      "│    └─Conv2d: 2-8                       [1, 12, 10, 10]           1,080\n",
      "│    └─ReLU: 2-9                         [1, 12, 10, 10]           --\n",
      "│    └─BatchNorm2d: 2-10                 [1, 12, 10, 10]           24\n",
      "├─Sequential: 1-6                        [1, 12, 8, 8]             --\n",
      "│    └─Conv2d: 2-11                      [1, 12, 8, 8]             1,296\n",
      "│    └─ReLU: 2-12                        [1, 12, 8, 8]             --\n",
      "│    └─BatchNorm2d: 2-13                 [1, 12, 8, 8]             24\n",
      "├─Sequential: 1-7                        [1, 12, 6, 6]             --\n",
      "│    └─Conv2d: 2-14                      [1, 12, 6, 6]             1,296\n",
      "│    └─ReLU: 2-15                        [1, 12, 6, 6]             --\n",
      "│    └─BatchNorm2d: 2-16                 [1, 12, 6, 6]             24\n",
      "├─Sequential: 1-8                        [1, 12, 6, 6]             --\n",
      "│    └─Conv2d: 2-17                      [1, 12, 6, 6]             1,296\n",
      "│    └─ReLU: 2-18                        [1, 12, 6, 6]             --\n",
      "│    └─BatchNorm2d: 2-19                 [1, 12, 6, 6]             24\n",
      "├─Sequential: 1-9                        [1, 12, 1, 1]             --\n",
      "│    └─AvgPool2d: 2-20                   [1, 12, 1, 1]             --\n",
      "├─Sequential: 1-10                       [1, 10, 1, 1]             --\n",
      "│    └─Conv2d: 2-21                      [1, 10, 1, 1]             120\n",
      "==========================================================================================\n",
      "Total params: 7,236\n",
      "Trainable params: 7,236\n",
      "Non-trainable params: 0\n",
      "Total mult-adds (Units.MEGABYTES): 1.45\n",
      "==========================================================================================\n",
      "Input size (MB): 0.00\n",
      "Forward/backward pass size (MB): 0.37\n",
      "Params size (MB): 0.03\n",
      "Estimated Total Size (MB): 0.40\n",
      "==========================================================================================\n"
     ]
    }
   ],
   "source": [
    "# Initial setup\n",
    "torch.manual_seed(14596)\n",
    "\n",
    "# Training parameters\n",
    "batch_size = 512\n",
    "kwargs = {'num_workers': 0, 'pin_memory': True} if device.type in [\"cuda\", \"mps\"] else {}\n",
    "\n",
    "# Initialize model and print summary\n",
    "model = Net().to(device)\n",
    "print(summary(model, input_size=(1, 1, 28, 28), device=device))\n"
   ]
  },
  {
   "cell_type": "code",
   "execution_count": 5,
   "metadata": {},
   "outputs": [
    {
     "data": {
      "image/png": "[encoded data removed]",
      "text/plain": [
       "<Figure size 1000x1000 with 36 Axes>"
      ]
     },
     "metadata": {},
     "output_type": "display_data"
    }
   ],
   "source": [
    "# Create data loaders\n",
    "train_loader = torch.utils.data.DataLoader(\n",
    "    MNISTAlbumentations('../data', train=True, download=True, transform=train_transforms),\n",
    "    batch_size=batch_size, shuffle=True, **kwargs)\n",
    "\n",
    "test_loader = torch.utils.data.DataLoader(\n",
    "    MNISTAlbumentations('../data', train=False, transform=test_transforms),\n",
    "    batch_size=batch_size, shuffle=True, **kwargs)\n",
    "\n",
    "visualize_augmentations(train_loader.dataset)"
   ]
  },
  {
   "cell_type": "code",
   "execution_count": 6,
   "metadata": {},
   "outputs": [
    {
     "name": "stdout",
     "output_type": "stream",
     "text": [
      "Epoch 1/15\n",
      "Learning rate: 0.006000\n"
     ]
    },
    {
     "name": "stderr",
     "output_type": "stream",
     "text": [
      "Training set: loss=0.24337 accuracy=68.00% batch_id=117: 100%|██████████| 118/118 [00:06<00:00, 17.17it/s]\n"
     ]
    },
    {
     "name": "stdout",
     "output_type": "stream",
     "text": [
      "Test set: Average loss: 0.20716, Accuracy: 9444/10000 (94.44%)\n",
      "\n",
      "Epoch 2/15\n",
      "Learning rate: 0.022906\n"
     ]
    },
    {
     "name": "stderr",
     "output_type": "stream",
     "text": [
      "Training set: loss=0.07710 accuracy=97.25% batch_id=117: 100%|██████████| 118/118 [00:02<00:00, 51.63it/s]\n"
     ]
    },
    {
     "name": "stdout",
     "output_type": "stream",
     "text": [
      "Test set: Average loss: 0.07478, Accuracy: 9778/10000 (97.78%)\n",
      "\n",
      "Epoch 3/15\n",
      "Learning rate: 0.065684\n"
     ]
    },
    {
     "name": "stderr",
     "output_type": "stream",
     "text": [
      "Training set: loss=0.12013 accuracy=98.31% batch_id=117: 100%|██████████| 118/118 [00:02<00:00, 53.27it/s]\n"
     ]
    },
    {
     "name": "stdout",
     "output_type": "stream",
     "text": [
      "Test set: Average loss: 0.05600, Accuracy: 9836/10000 (98.36%)\n",
      "\n",
      "Epoch 4/15\n",
      "Learning rate: 0.114246\n"
     ]
    },
    {
     "name": "stderr",
     "output_type": "stream",
     "text": [
      "Training set: loss=0.02896 accuracy=98.62% batch_id=117: 100%|██████████| 118/118 [00:02<00:00, 52.71it/s]\n"
     ]
    },
    {
     "name": "stdout",
     "output_type": "stream",
     "text": [
      "Test set: Average loss: 0.05867, Accuracy: 9824/10000 (98.24%)\n",
      "\n",
      "Epoch 5/15\n",
      "Learning rate: 0.145787\n"
     ]
    },
    {
     "name": "stderr",
     "output_type": "stream",
     "text": [
      "Training set: loss=0.08310 accuracy=98.88% batch_id=117: 100%|██████████| 118/118 [00:02<00:00, 52.78it/s]\n"
     ]
    },
    {
     "name": "stdout",
     "output_type": "stream",
     "text": [
      "Test set: Average loss: 0.04181, Accuracy: 9872/10000 (98.72%)\n",
      "\n",
      "Epoch 6/15\n",
      "Learning rate: 0.149134\n"
     ]
    },
    {
     "name": "stderr",
     "output_type": "stream",
     "text": [
      "Training set: loss=0.01795 accuracy=98.98% batch_id=117: 100%|██████████| 118/118 [00:02<00:00, 53.96it/s]\n"
     ]
    },
    {
     "name": "stdout",
     "output_type": "stream",
     "text": [
      "Test set: Average loss: 0.03473, Accuracy: 9887/10000 (98.87%)\n",
      "\n",
      "Epoch 7/15\n",
      "Learning rate: 0.142492\n"
     ]
    },
    {
     "name": "stderr",
     "output_type": "stream",
     "text": [
      "Training set: loss=0.01969 accuracy=99.06% batch_id=117: 100%|██████████| 118/118 [00:02<00:00, 51.35it/s]\n"
     ]
    },
    {
     "name": "stdout",
     "output_type": "stream",
     "text": [
      "Test set: Average loss: 0.04696, Accuracy: 9874/10000 (98.74%)\n",
      "\n",
      "Epoch 8/15\n",
      "Learning rate: 0.129854\n"
     ]
    },
    {
     "name": "stderr",
     "output_type": "stream",
     "text": [
      "Training set: loss=0.02686 accuracy=99.18% batch_id=117: 100%|██████████| 118/118 [00:02<00:00, 51.74it/s]\n"
     ]
    },
    {
     "name": "stdout",
     "output_type": "stream",
     "text": [
      "Test set: Average loss: 0.02887, Accuracy: 9908/10000 (99.08%)\n",
      "\n",
      "Epoch 9/15\n",
      "Learning rate: 0.112344\n"
     ]
    },
    {
     "name": "stderr",
     "output_type": "stream",
     "text": [
      "Training set: loss=0.04072 accuracy=99.17% batch_id=117: 100%|██████████| 118/118 [00:02<00:00, 51.23it/s]\n"
     ]
    },
    {
     "name": "stdout",
     "output_type": "stream",
     "text": [
      "Test set: Average loss: 0.03244, Accuracy: 9907/10000 (99.07%)\n",
      "\n",
      "Epoch 10/15\n",
      "Learning rate: 0.091517\n"
     ]
    },
    {
     "name": "stderr",
     "output_type": "stream",
     "text": [
      "Training set: loss=0.18395 accuracy=99.28% batch_id=117: 100%|██████████| 118/118 [00:02<00:00, 51.43it/s]\n"
     ]
    },
    {
     "name": "stdout",
     "output_type": "stream",
     "text": [
      "Test set: Average loss: 0.04461, Accuracy: 9876/10000 (98.76%)\n",
      "\n",
      "Epoch 11/15\n",
      "Learning rate: 0.069224\n"
     ]
    },
    {
     "name": "stderr",
     "output_type": "stream",
     "text": [
      "Training set: loss=0.00768 accuracy=99.39% batch_id=117: 100%|██████████| 118/118 [00:02<00:00, 51.47it/s]\n"
     ]
    },
    {
     "name": "stdout",
     "output_type": "stream",
     "text": [
      "Test set: Average loss: 0.02809, Accuracy: 9920/10000 (99.20%)\n",
      "\n",
      "Epoch 12/15\n",
      "Learning rate: 0.047446\n"
     ]
    },
    {
     "name": "stderr",
     "output_type": "stream",
     "text": [
      "Training set: loss=0.00948 accuracy=99.51% batch_id=117: 100%|██████████| 118/118 [00:02<00:00, 51.52it/s]\n"
     ]
    },
    {
     "name": "stdout",
     "output_type": "stream",
     "text": [
      "Test set: Average loss: 0.02618, Accuracy: 9922/10000 (99.22%)\n",
      "\n",
      "Epoch 13/15\n",
      "Learning rate: 0.028118\n"
     ]
    },
    {
     "name": "stderr",
     "output_type": "stream",
     "text": [
      "Training set: loss=0.00959 accuracy=99.61% batch_id=117: 100%|██████████| 118/118 [00:02<00:00, 52.52it/s]\n"
     ]
    },
    {
     "name": "stdout",
     "output_type": "stream",
     "text": [
      "Test set: Average loss: 0.02110, Accuracy: 9939/10000 (99.39%)\n",
      "\n",
      "Epoch 14/15\n",
      "Learning rate: 0.012956\n"
     ]
    },
    {
     "name": "stderr",
     "output_type": "stream",
     "text": [
      "Training set: loss=0.00338 accuracy=99.72% batch_id=117: 100%|██████████| 118/118 [00:02<00:00, 51.41it/s]\n"
     ]
    },
    {
     "name": "stdout",
     "output_type": "stream",
     "text": [
      "Test set: Average loss: 0.02154, Accuracy: 9936/10000 (99.36%)\n",
      "\n",
      "Epoch 15/15\n",
      "Learning rate: 0.003310\n"
     ]
    },
    {
     "name": "stderr",
     "output_type": "stream",
     "text": [
      "Training set: loss=0.00592 accuracy=99.78% batch_id=117: 100%|██████████| 118/118 [00:02<00:00, 52.88it/s]\n"
     ]
    },
    {
     "name": "stdout",
     "output_type": "stream",
     "text": [
      "Test set: Average loss: 0.02146, Accuracy: 9939/10000 (99.39%)\n",
      "\n",
      "\n",
      "Best accuracy achieved: 99.39%\n"
     ]
    }
   ],
   "source": [
    "max_lr = 0.15\n",
    "initial_div = 25\n",
    "final_div = 175\n",
    "warmup_pct = 0.3\n",
    "momentum = 0.95\n",
    "weight_decay = 0.0005\n",
    "\n",
    "num_epochs = 15\n",
    "# Initialize model and optimizer\n",
    "model = Net().to(device)\n",
    "optimizer = optim.SGD(\n",
    "    model.parameters(),\n",
    "    lr=max_lr/initial_div,\n",
    "    momentum=momentum,\n",
    "    weight_decay=weight_decay\n",
    ")\n",
    "\n",
    "# Setup OneCycle scheduler\n",
    "scheduler = torch.optim.lr_scheduler.OneCycleLR(\n",
    "    optimizer,\n",
    "    max_lr=max_lr,\n",
    "    epochs=num_epochs,\n",
    "    steps_per_epoch=len(train_loader),\n",
    "    pct_start=warmup_pct,\n",
    "    div_factor=initial_div,\n",
    "    final_div_factor=final_div\n",
    ")\n",
    "\n",
    "# Training Loop\n",
    "best_accuracy = 0\n",
    "for epoch in range(1, num_epochs + 1):\n",
    "    print(f\"Epoch {epoch}/{num_epochs}\")\n",
    "    print(f\"Learning rate: {optimizer.param_groups[0]['lr']:.6f}\")\n",
    "    train(model, device, train_loader, optimizer, epoch, scheduler)\n",
    "    accuracy = test(model, device, test_loader)\n",
    "    best_accuracy = max(best_accuracy, accuracy)\n",
    "\n",
    "print(f\"\\nBest accuracy achieved: {best_accuracy:.2f}%\")\n"
   ]
  },
  {
   "cell_type": "code",
   "execution_count": null,
   "metadata": {},
   "outputs": [],
   "source": []
  }
 ],
 "metadata": {
  "kernelspec": {
   "display_name": "erav2",
   "language": "python",
   "name": "python3"
  },
  "language_info": {
   "codemirror_mode": {
    "name": "ipython",
    "version": 3
   },
   "file_extension": ".py",
   "mimetype": "text/x-python",
   "name": "python",
   "nbconvert_exporter": "python",
   "pygments_lexer": "ipython3",
   "version": "3.12.3"
  }
 },
 "nbformat": 4,
 "nbformat_minor": 2
}
