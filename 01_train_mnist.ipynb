{
 "cells": [
  {
   "cell_type": "markdown",
   "metadata": {},
   "source": [
    "### Notebook Summary\n",
    "\n",
    "#### Data Handling & Augmentation\n",
    "- Uses MNIST dataset with custom wrapper class MNISTAlbumentations\n",
    "- Implements Albumentations for transformations (Normalization)\n",
    "\n",
    "#### Model Architecture (Model1)\n",
    "- Each block contains:\n",
    "  - Two 3x3 convolutions with padding=1\n",
    "  - BatchNormalization after each conv\n",
    "  - LeakyReLU activation\n",
    "  - MaxPooling (2x2)\n",
    "  - Global Average Pooling instead of fully connected layers\n",
    "- Total params: 6,984 (very lightweight)\n",
    "\n",
    "\n",
    "#### Training Configuration\n",
    "- Batch size: 512\n",
    "- Optimizer: SGD with momentum and constant learning rate\n",
    "- Number of epochs: 15\n",
    "- Device: Uses MPS/CUDA if available, else CPU\n",
    "\n",
    "#### **Target: 99%+ test accuracy**\n",
    "Result: Achieved 99.02% best test accuracy\n",
    "Analysis:\n",
    "\n",
    "#### 1. Target Justification:\n",
    "- MNIST is considered a relatively simple dataset\n",
    "- State-of-the-art models achieve >99% accuracy\n",
    "- The chosen architecture has sufficient capacity (6,984 parameters)\n",
    "- Previous implementations show 99% is achievable with similar architectures\n",
    "\n",
    "#### 2. Architecture Analysis:\n",
    "- Progressive channel increase (8→12→16) allows gradual feature extraction\n",
    "- Dual convolutions per block enable complex feature learning\n",
    "- BatchNorm helps with internal covariate shift and training stability\n",
    "- LeakyReLU prevents dying ReLU problem\n",
    "- Global Average Pooling reduces parameters and prevents overfitting\n",
    "\n",
    "#### 3. Results Analysis:\n",
    "- Training accuracy reached 99.37% (slight overfitting)\n",
    "- Test accuracy peaked at 99.02% (met target)\n",
    "- Fast convergence (>98% by epoch 4)\n",
    "- Consistent performance in later epochs\n",
    "- Small gap between train/test accuracy indicates good generalization\n",
    "\n",
    "#### 4. Potential Improvements:\n",
    "- Add dropout for better regularization\n",
    "- Implement learning rate scheduling\n",
    "- Experiment with data augmentation techniques\n",
    "- Try different optimizers like Adam\n",
    "- Try image augmentation "
   ]
  },
  {
   "cell_type": "code",
   "execution_count": null,
   "metadata": {},
   "outputs": [],
   "source": [
    "import torch\n",
    "import torch.nn as nn\n",
    "import torch.nn.functional as F\n",
    "import torch.optim as optim\n",
    "from torchvision import datasets\n",
    "import numpy as np\n",
    "from torchinfo import summary\n",
    "import albumentations as A\n",
    "from albumentations.pytorch import ToTensorV2\n",
    "from model import Model1 as Net\n",
    "from utils import visualize_augmentations\n",
    "from train import train, test\n"
   ]
  },
  {
   "cell_type": "markdown",
   "metadata": {},
   "source": [
    "#### Device Configuration"
   ]
  },
  {
   "cell_type": "code",
   "execution_count": 2,
   "metadata": {},
   "outputs": [],
   "source": [
    "\n",
    "use_cuda = torch.cuda.is_available()\n",
    "device = torch.device(\"mps\" if torch.backends.mps.is_available() else \"cuda\" if use_cuda else \"cpu\")\n"
   ]
  },
  {
   "cell_type": "markdown",
   "metadata": {},
   "source": [
    "#### Custom Dataset"
   ]
  },
  {
   "cell_type": "code",
   "execution_count": 3,
   "metadata": {},
   "outputs": [],
   "source": [
    "class MNISTAlbumentations(datasets.MNIST):\n",
    "    def __init__(self, root, train=True, download=True, transform=None):\n",
    "        super().__init__(root, train=train, download=download, transform=None)\n",
    "        self.transform = transform\n",
    "        \n",
    "    def __getitem__(self, idx):\n",
    "        img, label = self.data[idx], self.targets[idx]\n",
    "        img = np.array(img)\n",
    "        img = np.expand_dims(img, axis=-1)  # Add channel dimension for Albumentations\n",
    "        \n",
    "        if self.transform is not None:\n",
    "            transformed = self.transform(image=img)\n",
    "            img = transformed[\"image\"]\n",
    "            \n",
    "        return img, label\n",
    "\n",
    "\n",
    "###################\n",
    "# Data Augmentation\n",
    "###################\n",
    "\n",
    "# Training augmentation pipeline\n",
    "train_transforms = A.Compose([\n",
    "    A.Normalize(\n",
    "        mean=[0.1307],\n",
    "        std=[0.3081],\n",
    "    ),\n",
    "    ToTensorV2(),\n",
    "])\n",
    "\n",
    "# Test transforms (only normalization)\n",
    "test_transforms = A.Compose([\n",
    "    A.Normalize(\n",
    "        mean=[0.1307],\n",
    "        std=[0.3081],\n",
    "    ),\n",
    "    ToTensorV2(),\n",
    "])\n"
   ]
  },
  {
   "cell_type": "code",
   "execution_count": 4,
   "metadata": {},
   "outputs": [
    {
     "name": "stdout",
     "output_type": "stream",
     "text": [
      "==========================================================================================\n",
      "Layer (type:depth-idx)                   Output Shape              Param #\n",
      "==========================================================================================\n",
      "Model1                                   [1, 16]                   --\n",
      "├─Sequential: 1-1                        [1, 8, 14, 14]            --\n",
      "│    └─Conv2d: 2-1                       [1, 8, 28, 28]            72\n",
      "│    └─BatchNorm2d: 2-2                  [1, 8, 28, 28]            16\n",
      "│    └─LeakyReLU: 2-3                    [1, 8, 28, 28]            --\n",
      "│    └─Dropout: 2-4                      [1, 8, 28, 28]            --\n",
      "│    └─Conv2d: 2-5                       [1, 8, 28, 28]            576\n",
      "│    └─BatchNorm2d: 2-6                  [1, 8, 28, 28]            16\n",
      "│    └─LeakyReLU: 2-7                    [1, 8, 28, 28]            --\n",
      "│    └─MaxPool2d: 2-8                    [1, 8, 14, 14]            --\n",
      "│    └─Dropout: 2-9                      [1, 8, 14, 14]            --\n",
      "├─Sequential: 1-2                        [1, 12, 7, 7]             --\n",
      "│    └─Conv2d: 2-10                      [1, 12, 14, 14]           864\n",
      "│    └─BatchNorm2d: 2-11                 [1, 12, 14, 14]           24\n",
      "│    └─LeakyReLU: 2-12                   [1, 12, 14, 14]           --\n",
      "│    └─Dropout: 2-13                     [1, 12, 14, 14]           --\n",
      "│    └─Conv2d: 2-14                      [1, 12, 14, 14]           1,296\n",
      "│    └─BatchNorm2d: 2-15                 [1, 12, 14, 14]           24\n",
      "│    └─LeakyReLU: 2-16                   [1, 12, 14, 14]           --\n",
      "│    └─MaxPool2d: 2-17                   [1, 12, 7, 7]             --\n",
      "│    └─Dropout: 2-18                     [1, 12, 7, 7]             --\n",
      "├─Sequential: 1-3                        [1, 16, 3, 3]             --\n",
      "│    └─Conv2d: 2-19                      [1, 16, 7, 7]             1,728\n",
      "│    └─BatchNorm2d: 2-20                 [1, 16, 7, 7]             32\n",
      "│    └─LeakyReLU: 2-21                   [1, 16, 7, 7]             --\n",
      "│    └─Dropout: 2-22                     [1, 16, 7, 7]             --\n",
      "│    └─Conv2d: 2-23                      [1, 16, 7, 7]             2,304\n",
      "│    └─BatchNorm2d: 2-24                 [1, 16, 7, 7]             32\n",
      "│    └─LeakyReLU: 2-25                   [1, 16, 7, 7]             --\n",
      "│    └─MaxPool2d: 2-26                   [1, 16, 3, 3]             --\n",
      "│    └─Dropout: 2-27                     [1, 16, 3, 3]             --\n",
      "├─AdaptiveAvgPool2d: 1-4                 [1, 16, 1, 1]             --\n",
      "==========================================================================================\n",
      "Total params: 6,984\n",
      "Trainable params: 6,984\n",
      "Non-trainable params: 0\n",
      "Total mult-adds (Units.MEGABYTES): 1.13\n",
      "==========================================================================================\n",
      "Input size (MB): 0.00\n",
      "Forward/backward pass size (MB): 0.30\n",
      "Params size (MB): 0.03\n",
      "Estimated Total Size (MB): 0.33\n",
      "==========================================================================================\n"
     ]
    }
   ],
   "source": [
    "# Initial setup\n",
    "torch.manual_seed(14596)\n",
    "\n",
    "# Training parameters\n",
    "batch_size = 512\n",
    "kwargs = {'num_workers': 0, 'pin_memory': True} if device.type in [\"cuda\", \"mps\"] else {}\n",
    "\n",
    "# Initialize model and print summary\n",
    "model = Net(0.01).to(device)\n",
    "print(summary(model, input_size=(1, 1, 28, 28), device=device))\n"
   ]
  },
  {
   "cell_type": "code",
   "execution_count": 5,
   "metadata": {},
   "outputs": [
    {
     "data": {
      "image/png": "[encoded data removed]",
      "text/plain": [
       "<Figure size 1000x1000 with 36 Axes>"
      ]
     },
     "metadata": {},
     "output_type": "display_data"
    }
   ],
   "source": [
    "# Create data loaders\n",
    "train_loader = torch.utils.data.DataLoader(\n",
    "    MNISTAlbumentations('../data', train=True, download=True, transform=train_transforms),\n",
    "    batch_size=batch_size, shuffle=True, **kwargs)\n",
    "\n",
    "test_loader = torch.utils.data.DataLoader(\n",
    "    MNISTAlbumentations('../data', train=False, transform=test_transforms),\n",
    "    batch_size=batch_size, shuffle=True, **kwargs)\n",
    "\n",
    "visualize_augmentations(train_loader.dataset)"
   ]
  },
  {
   "cell_type": "code",
   "execution_count": 6,
   "metadata": {},
   "outputs": [
    {
     "name": "stdout",
     "output_type": "stream",
     "text": [
      "Epoch 1/15\n",
      "Learning rate: 0.010000\n"
     ]
    },
    {
     "name": "stderr",
     "output_type": "stream",
     "text": [
      "Training set: loss=0.24719 accuracy=83.50% batch_id=117: 100%|██████████| 118/118 [00:02<00:00, 44.79it/s]\n"
     ]
    },
    {
     "name": "stdout",
     "output_type": "stream",
     "text": [
      "Test set: Average loss: 0.18392, Accuracy: 9612/10000 (96.12%)\n",
      "\n",
      "Epoch 2/15\n",
      "Learning rate: 0.010000\n"
     ]
    },
    {
     "name": "stderr",
     "output_type": "stream",
     "text": [
      "Training set: loss=0.08617 accuracy=97.39% batch_id=117: 100%|██████████| 118/118 [00:02<00:00, 51.41it/s]\n"
     ]
    },
    {
     "name": "stdout",
     "output_type": "stream",
     "text": [
      "Test set: Average loss: 0.10497, Accuracy: 9760/10000 (97.60%)\n",
      "\n",
      "Epoch 3/15\n",
      "Learning rate: 0.010000\n"
     ]
    },
    {
     "name": "stderr",
     "output_type": "stream",
     "text": [
      "Training set: loss=0.10340 accuracy=98.19% batch_id=117: 100%|██████████| 118/118 [00:02<00:00, 50.80it/s]\n"
     ]
    },
    {
     "name": "stdout",
     "output_type": "stream",
     "text": [
      "Test set: Average loss: 0.08918, Accuracy: 9812/10000 (98.12%)\n",
      "\n",
      "Epoch 4/15\n",
      "Learning rate: 0.010000\n"
     ]
    },
    {
     "name": "stderr",
     "output_type": "stream",
     "text": [
      "Training set: loss=0.05036 accuracy=98.48% batch_id=117: 100%|██████████| 118/118 [00:02<00:00, 50.31it/s]\n"
     ]
    },
    {
     "name": "stdout",
     "output_type": "stream",
     "text": [
      "Test set: Average loss: 0.07030, Accuracy: 9830/10000 (98.30%)\n",
      "\n",
      "Epoch 5/15\n",
      "Learning rate: 0.010000\n"
     ]
    },
    {
     "name": "stderr",
     "output_type": "stream",
     "text": [
      "Training set: loss=0.04159 accuracy=98.73% batch_id=117: 100%|██████████| 118/118 [00:02<00:00, 51.13it/s]\n"
     ]
    },
    {
     "name": "stdout",
     "output_type": "stream",
     "text": [
      "Test set: Average loss: 0.05466, Accuracy: 9865/10000 (98.65%)\n",
      "\n",
      "Epoch 6/15\n",
      "Learning rate: 0.010000\n"
     ]
    },
    {
     "name": "stderr",
     "output_type": "stream",
     "text": [
      "Training set: loss=0.08799 accuracy=98.83% batch_id=117: 100%|██████████| 118/118 [00:02<00:00, 52.32it/s]\n"
     ]
    },
    {
     "name": "stdout",
     "output_type": "stream",
     "text": [
      "Test set: Average loss: 0.06200, Accuracy: 9858/10000 (98.58%)\n",
      "\n",
      "Epoch 7/15\n",
      "Learning rate: 0.010000\n"
     ]
    },
    {
     "name": "stderr",
     "output_type": "stream",
     "text": [
      "Training set: loss=0.02966 accuracy=98.88% batch_id=117: 100%|██████████| 118/118 [00:02<00:00, 50.79it/s]\n"
     ]
    },
    {
     "name": "stdout",
     "output_type": "stream",
     "text": [
      "Test set: Average loss: 0.05443, Accuracy: 9847/10000 (98.47%)\n",
      "\n",
      "Epoch 8/15\n",
      "Learning rate: 0.010000\n"
     ]
    },
    {
     "name": "stderr",
     "output_type": "stream",
     "text": [
      "Training set: loss=0.05704 accuracy=99.06% batch_id=117: 100%|██████████| 118/118 [00:02<00:00, 50.92it/s]\n"
     ]
    },
    {
     "name": "stdout",
     "output_type": "stream",
     "text": [
      "Test set: Average loss: 0.04740, Accuracy: 9882/10000 (98.82%)\n",
      "\n",
      "Epoch 9/15\n",
      "Learning rate: 0.010000\n"
     ]
    },
    {
     "name": "stderr",
     "output_type": "stream",
     "text": [
      "Training set: loss=0.02565 accuracy=99.08% batch_id=117: 100%|██████████| 118/118 [00:02<00:00, 51.44it/s]\n"
     ]
    },
    {
     "name": "stdout",
     "output_type": "stream",
     "text": [
      "Test set: Average loss: 0.05279, Accuracy: 9868/10000 (98.68%)\n",
      "\n",
      "Epoch 10/15\n",
      "Learning rate: 0.010000\n"
     ]
    },
    {
     "name": "stderr",
     "output_type": "stream",
     "text": [
      "Training set: loss=0.07140 accuracy=99.17% batch_id=117: 100%|██████████| 118/118 [00:02<00:00, 52.24it/s]\n"
     ]
    },
    {
     "name": "stdout",
     "output_type": "stream",
     "text": [
      "Test set: Average loss: 0.03869, Accuracy: 9902/10000 (99.02%)\n",
      "\n",
      "Epoch 11/15\n",
      "Learning rate: 0.010000\n"
     ]
    },
    {
     "name": "stderr",
     "output_type": "stream",
     "text": [
      "Training set: loss=0.02578 accuracy=99.21% batch_id=117: 100%|██████████| 118/118 [00:02<00:00, 51.81it/s]\n"
     ]
    },
    {
     "name": "stdout",
     "output_type": "stream",
     "text": [
      "Test set: Average loss: 0.05534, Accuracy: 9829/10000 (98.29%)\n",
      "\n",
      "Epoch 12/15\n",
      "Learning rate: 0.010000\n"
     ]
    },
    {
     "name": "stderr",
     "output_type": "stream",
     "text": [
      "Training set: loss=0.07728 accuracy=99.23% batch_id=117: 100%|██████████| 118/118 [00:02<00:00, 51.92it/s]\n"
     ]
    },
    {
     "name": "stdout",
     "output_type": "stream",
     "text": [
      "Test set: Average loss: 0.04201, Accuracy: 9896/10000 (98.96%)\n",
      "\n",
      "Epoch 13/15\n",
      "Learning rate: 0.010000\n"
     ]
    },
    {
     "name": "stderr",
     "output_type": "stream",
     "text": [
      "Training set: loss=0.02258 accuracy=99.31% batch_id=117: 100%|██████████| 118/118 [00:02<00:00, 52.21it/s]\n"
     ]
    },
    {
     "name": "stdout",
     "output_type": "stream",
     "text": [
      "Test set: Average loss: 0.03989, Accuracy: 9895/10000 (98.95%)\n",
      "\n",
      "Epoch 14/15\n",
      "Learning rate: 0.010000\n"
     ]
    },
    {
     "name": "stderr",
     "output_type": "stream",
     "text": [
      "Training set: loss=0.03882 accuracy=99.36% batch_id=117: 100%|██████████| 118/118 [00:02<00:00, 50.99it/s]\n"
     ]
    },
    {
     "name": "stdout",
     "output_type": "stream",
     "text": [
      "Test set: Average loss: 0.03955, Accuracy: 9894/10000 (98.94%)\n",
      "\n",
      "Epoch 15/15\n",
      "Learning rate: 0.010000\n"
     ]
    },
    {
     "name": "stderr",
     "output_type": "stream",
     "text": [
      "Training set: loss=0.06030 accuracy=99.37% batch_id=117: 100%|██████████| 118/118 [00:02<00:00, 52.15it/s]\n"
     ]
    },
    {
     "name": "stdout",
     "output_type": "stream",
     "text": [
      "Test set: Average loss: 0.03836, Accuracy: 9890/10000 (98.90%)\n",
      "\n",
      "\n",
      "Best accuracy achieved: 99.02%\n"
     ]
    }
   ],
   "source": [
    "lr = 0.01\n",
    "momentum = 0.95\n",
    "weight_decay = 0.0005\n",
    "drop_out = 0.0\n",
    "\n",
    "num_epochs = 15\n",
    "# Initialize model and optimizer\n",
    "model = Net(drop_out).to(device)\n",
    "optimizer = optim.SGD(\n",
    "    model.parameters(),\n",
    "    lr=lr,\n",
    "    momentum=momentum,\n",
    "    weight_decay=weight_decay\n",
    ")\n",
    "\n",
    "# Training Loop\n",
    "best_accuracy = 0\n",
    "for epoch in range(1, num_epochs + 1):\n",
    "    print(f\"Epoch {epoch}/{num_epochs}\")\n",
    "    print(f\"Learning rate: {optimizer.param_groups[0]['lr']:.6f}\")\n",
    "    train(model, device, train_loader, optimizer, epoch)\n",
    "    accuracy = test(model, device, test_loader)\n",
    "    best_accuracy = max(best_accuracy, accuracy)\n",
    "\n",
    "print(f\"\\nBest accuracy achieved: {best_accuracy:.2f}%\")\n"
   ]
  },
  {
   "cell_type": "code",
   "execution_count": null,
   "metadata": {},
   "outputs": [],
   "source": []
  }
 ],
 "metadata": {
  "kernelspec": {
   "display_name": "erav2",
   "language": "python",
   "name": "python3"
  },
  "language_info": {
   "codemirror_mode": {
    "name": "ipython",
    "version": 3
   },
   "file_extension": ".py",
   "mimetype": "text/x-python",
   "name": "python",
   "nbconvert_exporter": "python",
   "pygments_lexer": "ipython3",
   "version": "3.12.3"
  }
 },
 "nbformat": 4,
 "nbformat_minor": 2
}
