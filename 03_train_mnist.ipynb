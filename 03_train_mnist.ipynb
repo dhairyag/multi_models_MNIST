{
 "cells": [
  {
   "cell_type": "markdown",
   "metadata": {},
   "source": [
    "### Summary of Techniques Used in 03_train_mnist.ipynb\n",
    "\n",
    "#### Data Handling & Augmentation\n",
    "- MNIST dataset with MNISTAlbumentations wrapper\n",
    "- Enhanced augmentation pipeline:\n",
    "  - ShiftScaleRotate transformation (p=0.25)\n",
    "  - Shift limit: ±6.25%\n",
    "  - Scale limit: ±5%\n",
    "  - Rotation limit: ±7 degrees\n",
    "- Standard normalization (mean=0.1307, std=0.3081)\n",
    "\n",
    "#### Model Architecture (Model3)\n",
    "- Similar to Model2 but with added dropout layers\n",
    "- Features:\n",
    "  - ReLU activation\n",
    "  - BatchNormalization\n",
    "  - **Dropout (p=0.04) after each conv block**\n",
    "  - MaxPooling\n",
    "  - Global Average Pooling\n",
    "- Total params: 7,236 (same as Model2)\n",
    "\n",
    "#### Training Configuration\n",
    "- Batch size: 512\n",
    "- Optimizer: SGD with momentum\n",
    "- OneCycleLR scheduler\n",
    "- max_lr: 0.15\n",
    "- Initial div factor: 25\n",
    "- Final div factor: 175\n",
    "- Warmup percentage: 30%\n",
    "- Dropout rate: 0.04\n",
    "- Number of epochs: 15\n",
    "\n",
    "#### **Target, Result & Analysis**\n",
    "- Target: 99.5%+ test accuracy\n",
    "- Result: Achieved 99.53% best test accuracy\n",
    "\n",
    "####Analysis:\n",
    "\n",
    "1. Target Justification:\n",
    "- Added dropout regularization\n",
    "- Enhanced data augmentation\n",
    "- Proven architecture from Model2\n",
    "- Literature shows >99.5% possible with proper regularization\n",
    "- Combined benefits of augmentation and dropout\n",
    "\n",
    "2. Architecture Analysis:\n",
    "- Same powerful base as Model2\n",
    "- Strategic dropout placement after each block\n",
    "- Balanced regularization approach:\n",
    "  - Spatial (MaxPool)\n",
    "  - Feature (Dropout)\n",
    "  - Statistical (BatchNorm)\n",
    "- Maintains model capacity while improving generalization\n",
    "\n",
    "3. Results Analysis:\n",
    "- Training accuracy: 99.52% (minimal overfitting)\n",
    "- Test accuracy peaked at 99.53% (met target)\n",
    "- More stable learning curve\n",
    "- Better generalization than both Model1 and Model2\n",
    "- Consistent performance in final epochs\n",
    "\n",
    "4. Improvements over Previous Models:\n",
    "- Model1: +0.51% (99.02% → 99.53%)\n",
    "- Model2: +0.14% (99.39% → 99.53%)\n",
    "- Better regularization strategy\n",
    "- More robust to variations (augmentation)\n",
    "- Better generalization with similar training time\n",
    "\n",
    "5. Key Success Factors:\n",
    "- Combined regularization techniques\n",
    "- Strategic data augmentation\n",
    "- Optimal dropout rate (0.04)\n",
    "- Well-tuned OneCycleLR parameters\n",
    "- Balanced architecture design\n",
    "\n",
    "6. Potential Further Improvements:\n",
    "- Try different augmentation strategies\n",
    "- Experiment with other dropout patterns\n",
    "- Test different learning rate ranges\n",
    "- Consider adding skip connections\n",
    "- Investigate other regularization techniques"
   ]
  },
  {
   "cell_type": "code",
   "execution_count": null,
   "metadata": {},
   "outputs": [],
   "source": [
    "import torch\n",
    "import torch.nn as nn\n",
    "import torch.nn.functional as F\n",
    "import torch.optim as optim\n",
    "from torchvision import datasets\n",
    "import numpy as np\n",
    "from torchinfo import summary\n",
    "import albumentations as A\n",
    "from albumentations.pytorch import ToTensorV2\n",
    "from model import Model3 as Net\n",
    "from utils import visualize_augmentations\n",
    "from train import train, test\n",
    "import cv2"
   ]
  },
  {
   "cell_type": "markdown",
   "metadata": {},
   "source": [
    "#### Device Configuration"
   ]
  },
  {
   "cell_type": "code",
   "execution_count": 2,
   "metadata": {},
   "outputs": [],
   "source": [
    "\n",
    "use_cuda = torch.cuda.is_available()\n",
    "device = torch.device(\"mps\" if torch.backends.mps.is_available() else \"cuda\" if use_cuda else \"cpu\")\n"
   ]
  },
  {
   "cell_type": "markdown",
   "metadata": {},
   "source": [
    "#### Custom Dataset"
   ]
  },
  {
   "cell_type": "code",
   "execution_count": 3,
   "metadata": {},
   "outputs": [],
   "source": [
    "class MNISTAlbumentations(datasets.MNIST):\n",
    "    def __init__(self, root, train=True, download=True, transform=None):\n",
    "        super().__init__(root, train=train, download=download, transform=None)\n",
    "        self.transform = transform\n",
    "        \n",
    "    def __getitem__(self, idx):\n",
    "        img, label = self.data[idx], self.targets[idx]\n",
    "        img = np.array(img)\n",
    "        img = np.expand_dims(img, axis=-1)  # Add channel dimension for Albumentations\n",
    "        \n",
    "        if self.transform is not None:\n",
    "            transformed = self.transform(image=img)\n",
    "            img = transformed[\"image\"]\n",
    "            \n",
    "        return img, label\n",
    "\n",
    "\n",
    "###################\n",
    "# Data Augmentation\n",
    "###################\n",
    "\n",
    "# Training augmentation pipeline\n",
    "train_transforms = A.Compose([\n",
    "    A.ShiftScaleRotate(\n",
    "        shift_limit=0.0625,\n",
    "        scale_limit=0.05,\n",
    "        rotate_limit=7,\n",
    "        p=0.25,\n",
    "        border_mode=cv2.BORDER_CONSTANT,\n",
    "        value=0\n",
    "    ),\n",
    "    A.Normalize(\n",
    "        mean=[0.1307],\n",
    "        std=[0.3081],\n",
    "    ),\n",
    "    ToTensorV2(),\n",
    "])\n",
    "\n",
    "# Test transforms (only normalization)\n",
    "test_transforms = A.Compose([\n",
    "    A.Normalize(\n",
    "        mean=[0.1307],\n",
    "        std=[0.3081],\n",
    "    ),\n",
    "    ToTensorV2(),\n",
    "])\n"
   ]
  },
  {
   "cell_type": "code",
   "execution_count": 4,
   "metadata": {},
   "outputs": [
    {
     "name": "stdout",
     "output_type": "stream",
     "text": [
      "==========================================================================================\n",
      "Layer (type:depth-idx)                   Output Shape              Param #\n",
      "==========================================================================================\n",
      "Model3                                   [1, 10]                   --\n",
      "├─Sequential: 1-1                        [1, 12, 26, 26]           --\n",
      "│    └─Conv2d: 2-1                       [1, 12, 26, 26]           108\n",
      "│    └─ReLU: 2-2                         [1, 12, 26, 26]           --\n",
      "│    └─BatchNorm2d: 2-3                  [1, 12, 26, 26]           24\n",
      "│    └─Dropout: 2-4                      [1, 12, 26, 26]           --\n",
      "├─Sequential: 1-2                        [1, 16, 24, 24]           --\n",
      "│    └─Conv2d: 2-5                       [1, 16, 24, 24]           1,728\n",
      "│    └─ReLU: 2-6                         [1, 16, 24, 24]           --\n",
      "│    └─BatchNorm2d: 2-7                  [1, 16, 24, 24]           32\n",
      "│    └─Dropout: 2-8                      [1, 16, 24, 24]           --\n",
      "├─Sequential: 1-3                        [1, 10, 24, 24]           --\n",
      "│    └─Conv2d: 2-9                       [1, 10, 24, 24]           160\n",
      "├─MaxPool2d: 1-4                         [1, 10, 12, 12]           --\n",
      "├─Sequential: 1-5                        [1, 12, 10, 10]           --\n",
      "│    └─Conv2d: 2-10                      [1, 12, 10, 10]           1,080\n",
      "│    └─ReLU: 2-11                        [1, 12, 10, 10]           --\n",
      "│    └─BatchNorm2d: 2-12                 [1, 12, 10, 10]           24\n",
      "│    └─Dropout: 2-13                     [1, 12, 10, 10]           --\n",
      "├─Sequential: 1-6                        [1, 12, 8, 8]             --\n",
      "│    └─Conv2d: 2-14                      [1, 12, 8, 8]             1,296\n",
      "│    └─ReLU: 2-15                        [1, 12, 8, 8]             --\n",
      "│    └─BatchNorm2d: 2-16                 [1, 12, 8, 8]             24\n",
      "│    └─Dropout: 2-17                     [1, 12, 8, 8]             --\n",
      "├─Sequential: 1-7                        [1, 12, 6, 6]             --\n",
      "│    └─Conv2d: 2-18                      [1, 12, 6, 6]             1,296\n",
      "│    └─ReLU: 2-19                        [1, 12, 6, 6]             --\n",
      "│    └─BatchNorm2d: 2-20                 [1, 12, 6, 6]             24\n",
      "│    └─Dropout: 2-21                     [1, 12, 6, 6]             --\n",
      "├─Sequential: 1-8                        [1, 12, 6, 6]             --\n",
      "│    └─Conv2d: 2-22                      [1, 12, 6, 6]             1,296\n",
      "│    └─ReLU: 2-23                        [1, 12, 6, 6]             --\n",
      "│    └─BatchNorm2d: 2-24                 [1, 12, 6, 6]             24\n",
      "│    └─Dropout: 2-25                     [1, 12, 6, 6]             --\n",
      "├─Sequential: 1-9                        [1, 12, 1, 1]             --\n",
      "│    └─AvgPool2d: 2-26                   [1, 12, 1, 1]             --\n",
      "├─Sequential: 1-10                       [1, 10, 1, 1]             --\n",
      "│    └─Conv2d: 2-27                      [1, 10, 1, 1]             120\n",
      "==========================================================================================\n",
      "Total params: 7,236\n",
      "Trainable params: 7,236\n",
      "Non-trainable params: 0\n",
      "Total mult-adds (Units.MEGABYTES): 1.45\n",
      "==========================================================================================\n",
      "Input size (MB): 0.00\n",
      "Forward/backward pass size (MB): 0.37\n",
      "Params size (MB): 0.03\n",
      "Estimated Total Size (MB): 0.40\n",
      "==========================================================================================\n"
     ]
    }
   ],
   "source": [
    "# Initial setup\n",
    "torch.manual_seed(14596)\n",
    "\n",
    "# Training parameters\n",
    "batch_size = 512\n",
    "kwargs = {'num_workers': 0, 'pin_memory': True} if device.type in [\"cuda\", \"mps\"] else {}\n",
    "\n",
    "# Initialize model and print summary\n",
    "model = Net(0.01).to(device)\n",
    "print(summary(model, input_size=(1, 1, 28, 28), device=device))\n"
   ]
  },
  {
   "cell_type": "code",
   "execution_count": 5,
   "metadata": {},
   "outputs": [
    {
     "data": {
      "image/png": "[encoded data removed]",
      "text/plain": [
       "<Figure size 1000x1000 with 36 Axes>"
      ]
     },
     "metadata": {},
     "output_type": "display_data"
    }
   ],
   "source": [
    "# Create data loaders\n",
    "train_loader = torch.utils.data.DataLoader(\n",
    "    MNISTAlbumentations('../data', train=True, download=True, transform=train_transforms),\n",
    "    batch_size=batch_size, shuffle=True, **kwargs)\n",
    "\n",
    "test_loader = torch.utils.data.DataLoader(\n",
    "    MNISTAlbumentations('../data', train=False, transform=test_transforms),\n",
    "    batch_size=batch_size, shuffle=True, **kwargs)\n",
    "\n",
    "visualize_augmentations(train_loader.dataset)"
   ]
  },
  {
   "cell_type": "code",
   "execution_count": 6,
   "metadata": {},
   "outputs": [
    {
     "name": "stdout",
     "output_type": "stream",
     "text": [
      "Epoch 1/15\n",
      "Learning rate: 0.006000\n"
     ]
    },
    {
     "name": "stderr",
     "output_type": "stream",
     "text": [
      "Training set: loss=0.31766 accuracy=62.44% batch_id=117: 100%|██████████| 118/118 [00:08<00:00, 14.27it/s]\n"
     ]
    },
    {
     "name": "stdout",
     "output_type": "stream",
     "text": [
      "Test set: Average loss: 0.21595, Accuracy: 9469/10000 (94.69%)\n",
      "\n",
      "Epoch 2/15\n",
      "Learning rate: 0.022906\n"
     ]
    },
    {
     "name": "stderr",
     "output_type": "stream",
     "text": [
      "Training set: loss=0.07548 accuracy=96.56% batch_id=117: 100%|██████████| 118/118 [00:03<00:00, 35.92it/s]\n"
     ]
    },
    {
     "name": "stdout",
     "output_type": "stream",
     "text": [
      "Test set: Average loss: 0.06096, Accuracy: 9839/10000 (98.39%)\n",
      "\n",
      "Epoch 3/15\n",
      "Learning rate: 0.065684\n"
     ]
    },
    {
     "name": "stderr",
     "output_type": "stream",
     "text": [
      "Training set: loss=0.10818 accuracy=98.03% batch_id=117: 100%|██████████| 118/118 [00:03<00:00, 36.27it/s]\n"
     ]
    },
    {
     "name": "stdout",
     "output_type": "stream",
     "text": [
      "Test set: Average loss: 0.05133, Accuracy: 9850/10000 (98.50%)\n",
      "\n",
      "Epoch 4/15\n",
      "Learning rate: 0.114246\n"
     ]
    },
    {
     "name": "stderr",
     "output_type": "stream",
     "text": [
      "Training set: loss=0.05920 accuracy=98.39% batch_id=117: 100%|██████████| 118/118 [00:03<00:00, 35.37it/s]\n"
     ]
    },
    {
     "name": "stdout",
     "output_type": "stream",
     "text": [
      "Test set: Average loss: 0.04577, Accuracy: 9862/10000 (98.62%)\n",
      "\n",
      "Epoch 5/15\n",
      "Learning rate: 0.145787\n"
     ]
    },
    {
     "name": "stderr",
     "output_type": "stream",
     "text": [
      "Training set: loss=0.08802 accuracy=98.60% batch_id=117: 100%|██████████| 118/118 [00:03<00:00, 36.52it/s]\n"
     ]
    },
    {
     "name": "stdout",
     "output_type": "stream",
     "text": [
      "Test set: Average loss: 0.04115, Accuracy: 9875/10000 (98.75%)\n",
      "\n",
      "Epoch 6/15\n",
      "Learning rate: 0.149134\n"
     ]
    },
    {
     "name": "stderr",
     "output_type": "stream",
     "text": [
      "Training set: loss=0.02498 accuracy=98.65% batch_id=117: 100%|██████████| 118/118 [00:03<00:00, 35.75it/s]\n"
     ]
    },
    {
     "name": "stdout",
     "output_type": "stream",
     "text": [
      "Test set: Average loss: 0.03185, Accuracy: 9904/10000 (99.04%)\n",
      "\n",
      "Epoch 7/15\n",
      "Learning rate: 0.142492\n"
     ]
    },
    {
     "name": "stderr",
     "output_type": "stream",
     "text": [
      "Training set: loss=0.02672 accuracy=98.85% batch_id=117: 100%|██████████| 118/118 [00:03<00:00, 35.51it/s]\n"
     ]
    },
    {
     "name": "stdout",
     "output_type": "stream",
     "text": [
      "Test set: Average loss: 0.03545, Accuracy: 9894/10000 (98.94%)\n",
      "\n",
      "Epoch 8/15\n",
      "Learning rate: 0.129854\n"
     ]
    },
    {
     "name": "stderr",
     "output_type": "stream",
     "text": [
      "Training set: loss=0.02423 accuracy=98.91% batch_id=117: 100%|██████████| 118/118 [00:03<00:00, 36.58it/s]\n"
     ]
    },
    {
     "name": "stdout",
     "output_type": "stream",
     "text": [
      "Test set: Average loss: 0.02956, Accuracy: 9914/10000 (99.14%)\n",
      "\n",
      "Epoch 9/15\n",
      "Learning rate: 0.112344\n"
     ]
    },
    {
     "name": "stderr",
     "output_type": "stream",
     "text": [
      "Training set: loss=0.02811 accuracy=98.99% batch_id=117: 100%|██████████| 118/118 [00:03<00:00, 36.17it/s]\n"
     ]
    },
    {
     "name": "stdout",
     "output_type": "stream",
     "text": [
      "Test set: Average loss: 0.02603, Accuracy: 9924/10000 (99.24%)\n",
      "\n",
      "Epoch 10/15\n",
      "Learning rate: 0.091517\n"
     ]
    },
    {
     "name": "stderr",
     "output_type": "stream",
     "text": [
      "Training set: loss=0.12810 accuracy=99.03% batch_id=117: 100%|██████████| 118/118 [00:03<00:00, 36.58it/s]\n"
     ]
    },
    {
     "name": "stdout",
     "output_type": "stream",
     "text": [
      "Test set: Average loss: 0.02611, Accuracy: 9921/10000 (99.21%)\n",
      "\n",
      "Epoch 11/15\n",
      "Learning rate: 0.069224\n"
     ]
    },
    {
     "name": "stderr",
     "output_type": "stream",
     "text": [
      "Training set: loss=0.00992 accuracy=99.15% batch_id=117: 100%|██████████| 118/118 [00:03<00:00, 35.87it/s]\n"
     ]
    },
    {
     "name": "stdout",
     "output_type": "stream",
     "text": [
      "Test set: Average loss: 0.02278, Accuracy: 9940/10000 (99.40%)\n",
      "\n",
      "Epoch 12/15\n",
      "Learning rate: 0.047446\n"
     ]
    },
    {
     "name": "stderr",
     "output_type": "stream",
     "text": [
      "Training set: loss=0.02265 accuracy=99.24% batch_id=117: 100%|██████████| 118/118 [00:03<00:00, 36.02it/s]\n"
     ]
    },
    {
     "name": "stdout",
     "output_type": "stream",
     "text": [
      "Test set: Average loss: 0.02180, Accuracy: 9938/10000 (99.38%)\n",
      "\n",
      "Epoch 13/15\n",
      "Learning rate: 0.028118\n"
     ]
    },
    {
     "name": "stderr",
     "output_type": "stream",
     "text": [
      "Training set: loss=0.01845 accuracy=99.30% batch_id=117: 100%|██████████| 118/118 [00:03<00:00, 35.99it/s]\n"
     ]
    },
    {
     "name": "stdout",
     "output_type": "stream",
     "text": [
      "Test set: Average loss: 0.02047, Accuracy: 9938/10000 (99.38%)\n",
      "\n",
      "Epoch 14/15\n",
      "Learning rate: 0.012956\n"
     ]
    },
    {
     "name": "stderr",
     "output_type": "stream",
     "text": [
      "Training set: loss=0.00418 accuracy=99.40% batch_id=117: 100%|██████████| 118/118 [00:03<00:00, 35.04it/s]\n"
     ]
    },
    {
     "name": "stdout",
     "output_type": "stream",
     "text": [
      "Test set: Average loss: 0.01871, Accuracy: 9953/10000 (99.53%)\n",
      "\n",
      "Epoch 15/15\n",
      "Learning rate: 0.003310\n"
     ]
    },
    {
     "name": "stderr",
     "output_type": "stream",
     "text": [
      "Training set: loss=0.03209 accuracy=99.52% batch_id=117: 100%|██████████| 118/118 [00:03<00:00, 35.93it/s]\n"
     ]
    },
    {
     "name": "stdout",
     "output_type": "stream",
     "text": [
      "Test set: Average loss: 0.01864, Accuracy: 9950/10000 (99.50%)\n",
      "\n",
      "\n",
      "Best accuracy achieved: 99.53%\n"
     ]
    }
   ],
   "source": [
    "max_lr = 0.15\n",
    "initial_div = 25\n",
    "final_div = 175\n",
    "warmup_pct = 0.3\n",
    "momentum = 0.95\n",
    "weight_decay = 0.0005\n",
    "drop_out = 0.04\n",
    "\n",
    "num_epochs = 15\n",
    "# Initialize model and optimizer\n",
    "model = Net(drop_out).to(device)\n",
    "optimizer = optim.SGD(\n",
    "    model.parameters(),\n",
    "    lr=max_lr/initial_div,\n",
    "    momentum=momentum,\n",
    "    weight_decay=weight_decay\n",
    ")\n",
    "\n",
    "# Setup OneCycle scheduler\n",
    "scheduler = torch.optim.lr_scheduler.OneCycleLR(\n",
    "    optimizer,\n",
    "    max_lr=max_lr,\n",
    "    epochs=num_epochs,\n",
    "    steps_per_epoch=len(train_loader),\n",
    "    pct_start=warmup_pct,\n",
    "    div_factor=initial_div,\n",
    "    final_div_factor=final_div\n",
    ")\n",
    "\n",
    "# Training Loop\n",
    "best_accuracy = 0\n",
    "for epoch in range(1, num_epochs + 1):\n",
    "    print(f\"Epoch {epoch}/{num_epochs}\")\n",
    "    print(f\"Learning rate: {optimizer.param_groups[0]['lr']:.6f}\")\n",
    "    train(model, device, train_loader, optimizer, epoch, scheduler)\n",
    "    accuracy = test(model, device, test_loader)\n",
    "    best_accuracy = max(best_accuracy, accuracy)\n",
    "\n",
    "print(f\"\\nBest accuracy achieved: {best_accuracy:.2f}%\")\n"
   ]
  },
  {
   "cell_type": "code",
   "execution_count": null,
   "metadata": {},
   "outputs": [],
   "source": []
  }
 ],
 "metadata": {
  "kernelspec": {
   "display_name": "erav2",
   "language": "python",
   "name": "python3"
  },
  "language_info": {
   "codemirror_mode": {
    "name": "ipython",
    "version": 3
   },
   "file_extension": ".py",
   "mimetype": "text/x-python",
   "name": "python",
   "nbconvert_exporter": "python",
   "pygments_lexer": "ipython3",
   "version": "3.12.3"
  }
 },
 "nbformat": 4,
 "nbformat_minor": 2
}
